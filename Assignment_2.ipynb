{
 "cells": [
  {
   "cell_type": "code",
   "execution_count": null,
   "id": "34ddacc1",
   "metadata": {},
   "outputs": [
    {
     "name": "stdout",
     "output_type": "stream",
     "text": [
      "9 * 1 = 9\n",
      "9 * 2 = 18\n",
      "9 * 3 = 27\n",
      "9 * 4 = 36\n",
      "9 * 5 = 45\n",
      "9 * 6 = 54\n",
      "9 * 7 = 63\n",
      "9 * 8 = 72\n",
      "9 * 9 = 81\n",
      "9 * 10 = 90\n"
     ]
    }
   ],
   "source": [
    "def print_multiplication_table(n):\n",
    "    for i in range(1, 11):\n",
    "        print(f\"{n} * {i} = {n * i}\")\n",
    "\n",
    "\n",
    "number = int(input(\"Enter a number: \"))\n",
    "print_multiplication_table(number)"
   ]
  },
  {
   "cell_type": "code",
   "execution_count": null,
   "id": "853754cc",
   "metadata": {},
   "outputs": [
    {
     "name": "stdout",
     "output_type": "stream",
     "text": [
      "Multiplication table for 9:\n",
      "9 * 1 = 9\n",
      "9 * 2 = 18\n",
      "9 * 3 = 27\n",
      "9 * 4 = 36\n",
      "9 * 5 = 45\n",
      "9 * 6 = 54\n",
      "9 * 7 = 63\n",
      "9 * 8 = 72\n",
      "9 * 9 = 81\n",
      "9 * 10 = 90\n"
     ]
    }
   ],
   "source": [
    "# anther solution\n",
    "def print_multiplication_table(number):\n",
    "    \"\"\"\n",
    "    Prints the multiplication table for the given number from 1 to 10.\n",
    "\n",
    "    Parameters:\n",
    "    number (int): The number for which to print the multiplication table\n",
    "\n",
    "    Returns:\n",
    "    None\n",
    "    \"\"\"\n",
    "    print(f\"Multiplication table for {number}:\")\n",
    "\n",
    "    for i in range(1, 11):\n",
    "        result = number * i\n",
    "        print(f\"{number} * {i} = {result}\")\n",
    "\n",
    "\n",
    "# Example usage\n",
    "number = int(input(\"Enter a number: \"))\n",
    "print_multiplication_table(number)"
   ]
  },
  {
   "cell_type": "code",
   "execution_count": null,
   "id": "bfc1d14c",
   "metadata": {},
   "outputs": [
    {
     "name": "stdout",
     "output_type": "stream",
     "text": [
      "Twin primes less than 1000:\n",
      "3 and 5\n",
      "5 and 7\n",
      "11 and 13\n",
      "17 and 19\n",
      "29 and 31\n",
      "41 and 43\n",
      "59 and 61\n",
      "71 and 73\n",
      "101 and 103\n",
      "107 and 109\n",
      "137 and 139\n",
      "149 and 151\n",
      "179 and 181\n",
      "191 and 193\n",
      "197 and 199\n",
      "227 and 229\n",
      "239 and 241\n",
      "269 and 271\n",
      "281 and 283\n",
      "311 and 313\n",
      "347 and 349\n",
      "419 and 421\n",
      "431 and 433\n",
      "461 and 463\n",
      "521 and 523\n",
      "569 and 571\n",
      "599 and 601\n",
      "617 and 619\n",
      "641 and 643\n",
      "659 and 661\n",
      "809 and 811\n",
      "821 and 823\n",
      "827 and 829\n",
      "857 and 859\n",
      "881 and 883\n",
      "\n",
      "Total number of twin prime pairs found: 35\n"
     ]
    }
   ],
   "source": [
    "def is_prime(n):\n",
    "    \"\"\"Check if a number is prime.\"\"\"\n",
    "    if n <= 1:\n",
    "        return False\n",
    "    if n <= 3:\n",
    "        return True\n",
    "    if n % 2 == 0 or n % 3 == 0:\n",
    "        return False\n",
    "\n",
    "    # Check divisibility by numbers of form 6k±1 up to sqrt(n)\n",
    "    i = 5\n",
    "    while i * i <= n:\n",
    "        if n % i == 0 or n % (i + 2) == 0:\n",
    "            return False\n",
    "        i += 6\n",
    "    return True\n",
    "\n",
    "\n",
    "# Find all twin primes less than 1000\n",
    "twin_primes = []\n",
    "for n in range(3, 998):  # We check up to 998 to allow for n+2 < 1000\n",
    "    if is_prime(n) and is_prime(n + 2):\n",
    "        twin_primes.append((n, n + 2))\n",
    "\n",
    "# Print the twin primes\n",
    "print(\"Twin primes less than 1000:\")\n",
    "for pair in twin_primes:\n",
    "    print(f\"{pair[0]} and {pair[1]}\")\n",
    "\n",
    "print(f\"\\nTotal number of twin prime pairs found: {len(twin_primes)}\")"
   ]
  },
  {
   "cell_type": "code",
   "execution_count": null,
   "id": "3cdbc34a",
   "metadata": {},
   "outputs": [
    {
     "name": "stdout",
     "output_type": "stream",
     "text": [
      "3 and 5\n",
      "5 and 7\n",
      "11 and 13\n",
      "17 and 19\n",
      "29 and 31\n",
      "41 and 43\n",
      "59 and 61\n",
      "71 and 73\n",
      "101 and 103\n",
      "107 and 109\n",
      "137 and 139\n",
      "149 and 151\n",
      "179 and 181\n",
      "191 and 193\n",
      "197 and 199\n",
      "227 and 229\n",
      "239 and 241\n",
      "269 and 271\n",
      "281 and 283\n",
      "311 and 313\n",
      "347 and 349\n",
      "419 and 421\n",
      "431 and 433\n",
      "461 and 463\n",
      "521 and 523\n",
      "569 and 571\n",
      "599 and 601\n",
      "617 and 619\n",
      "641 and 643\n",
      "659 and 661\n",
      "809 and 811\n",
      "821 and 823\n",
      "827 and 829\n",
      "857 and 859\n",
      "881 and 883\n"
     ]
    }
   ],
   "source": [
    "# another solution\n",
    "def is_prime(n):\n",
    "    if n < 2:\n",
    "        return False\n",
    "    for i in range(2, int(n**0.5) + 1):\n",
    "        if n % i == 0:\n",
    "            return False\n",
    "    return True\n",
    "\n",
    "\n",
    "def print_twin_primes(limit):\n",
    "    for i in range(3, limit, 2):\n",
    "        if is_prime(i) and is_prime(i + 2):\n",
    "            print(f\"{i} and {i + 2}\")\n",
    "\n",
    "\n",
    "print_twin_primes(1000)"
   ]
  },
  {
   "cell_type": "code",
   "execution_count": null,
   "id": "5eab4788",
   "metadata": {},
   "outputs": [
    {
     "name": "stdout",
     "output_type": "stream",
     "text": [
      "Prime factors of 56: [2, 2, 2, 7]\n"
     ]
    }
   ],
   "source": [
    "def prime_factors(n):\n",
    "    \"\"\"\n",
    "    Returns a list of prime factors of a given number n.\n",
    "\n",
    "    Args:\n",
    "        n (int): The number to factorize\n",
    "\n",
    "    Returns:\n",
    "        list: A list of prime factors\n",
    "    \"\"\"\n",
    "    factors = []\n",
    "\n",
    "    # Handle the case of 2 separately\n",
    "    while n % 2 == 0:\n",
    "        factors.append(2)\n",
    "        n //= 2\n",
    "\n",
    "    # Check for odd prime factors\n",
    "    i = 3\n",
    "    while i * i <= n:\n",
    "        while n % i == 0:\n",
    "            factors.append(i)\n",
    "            n //= i\n",
    "        i += 2  # Only check odd numbers\n",
    "\n",
    "    # If n is a prime number greater than 2\n",
    "    if n > 2:\n",
    "        factors.append(n)\n",
    "\n",
    "    return factors\n",
    "\n",
    "\n",
    "# Example usage\n",
    "number = 56\n",
    "print(f\"Prime factors of {number}: {prime_factors(number)}\")"
   ]
  },
  {
   "cell_type": "code",
   "execution_count": null,
   "id": "6a6376bd",
   "metadata": {},
   "outputs": [
    {
     "name": "stdout",
     "output_type": "stream",
     "text": [
      "Prime factors of 56 - 2, 2, 2, 7\n"
     ]
    }
   ],
   "source": [
    "# another solution\n",
    "def prime_factors(n):\n",
    "    \"\"\"\n",
    "    Returns a list of prime factors of a given number n.\n",
    "    Example: 56 -> [2, 2, 2, 7]\n",
    "    \"\"\"\n",
    "    factors = []\n",
    "    # Divide by 2 until odd\n",
    "    while n % 2 == 0:\n",
    "        factors.append(2)\n",
    "        n //= 2\n",
    "    # Divide by odd numbers\n",
    "    i = 3\n",
    "    while i * i <= n:\n",
    "        while n % i == 0:\n",
    "            factors.append(i)\n",
    "            n //= i\n",
    "        i += 2\n",
    "    # If n is a prime number greater than 2\n",
    "    if n > 2:\n",
    "        factors.append(n)\n",
    "    return factors\n",
    "\n",
    "\n",
    "# Example usage\n",
    "number = int(input(\"Enter a number: \"))\n",
    "print(\n",
    "    f\"Prime factors of {number} - {', '.join(map(str, prime_factors(number)))}\")"
   ]
  },
  {
   "cell_type": "code",
   "execution_count": null,
   "id": "18844213",
   "metadata": {},
   "outputs": [
    {
     "name": "stdout",
     "output_type": "stream",
     "text": [
      "Perfect numbers between 0 and 100:\n",
      "6\n",
      "28\n"
     ]
    }
   ],
   "source": [
    "def is_perfect(num):\n",
    "    \"\"\"Check if a number is perfect.\"\"\"\n",
    "    if num <= 1:\n",
    "        return False\n",
    "\n",
    "    # Find all proper divisors and sum them\n",
    "    divisor_sum = 1  # Start with 1 as it's always a divisor\n",
    "\n",
    "    # We only need to check up to the square root of num for efficiency\n",
    "    for i in range(2, int(num**0.5) + 1):\n",
    "        if num % i == 0:\n",
    "            # If i is a divisor, add both i and num/i\n",
    "            divisor_sum += i\n",
    "            # Avoid adding the same divisor twice (when i is the square root)\n",
    "            if i != num // i:\n",
    "                divisor_sum += num // i\n",
    "\n",
    "    # Check if the sum of proper divisors equals the number\n",
    "    return divisor_sum == num\n",
    "\n",
    "\n",
    "def find_perfect_numbers(start, end):\n",
    "    \"\"\"Find all perfect numbers in the given range.\"\"\"\n",
    "    perfect_numbers = []\n",
    "\n",
    "    for num in range(max(2, start), end + 1):\n",
    "        if is_perfect(num):\n",
    "            perfect_numbers.append(num)\n",
    "\n",
    "    return perfect_numbers\n",
    "\n",
    "\n",
    "# Example usage\n",
    "start = 0\n",
    "end = 100\n",
    "perfect_nums = find_perfect_numbers(start, end)\n",
    "\n",
    "print(f\"Perfect numbers between {start} and {end}:\")\n",
    "for num in perfect_nums:\n",
    "    print(num)"
   ]
  },
  {
   "cell_type": "code",
   "execution_count": null,
   "id": "53564539",
   "metadata": {},
   "outputs": [],
   "source": []
  }
 ],
 "metadata": {
  "kernelspec": {
   "display_name": "Python 3",
   "language": "python",
   "name": "python3"
  },
  "language_info": {
   "codemirror_mode": {
    "name": "ipython",
    "version": 3
   },
   "file_extension": ".py",
   "mimetype": "text/x-python",
   "name": "python",
   "nbconvert_exporter": "python",
   "pygments_lexer": "ipython3",
   "version": "3.12.2"
  }
 },
 "nbformat": 4,
 "nbformat_minor": 5
}
